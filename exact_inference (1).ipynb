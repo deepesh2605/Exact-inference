{
  "nbformat": 4,
  "nbformat_minor": 0,
  "metadata": {
    "colab": {
      "provenance": []
    },
    "kernelspec": {
      "name": "python3",
      "display_name": "Python 3"
    },
    "language_info": {
      "name": "python"
    }
  },
  "cells": [
    {
      "cell_type": "code",
      "execution_count": 2,
      "metadata": {
        "colab": {
          "base_uri": "https://localhost:8080/"
        },
        "id": "iatbbg0cGcLL",
        "outputId": "6c77ad5a-cd22-4a9d-9e07-de0241922795"
      },
      "outputs": [
        {
          "output_type": "stream",
          "name": "stdout",
          "text": [
            "Posterior Distribution for P(A|B=1): {(0,): 0.2258064516129032, (1,): 0.7741935483870968}\n"
          ]
        }
      ],
      "source": [
        "import numpy as np\n",
        "\n",
        "class BayesianNetwork:\n",
        "\n",
        "\n",
        "    def __init__(self, variables, cpt_dict):\n",
        "\n",
        "        self.variables = variables\n",
        "        self.cpt_dict = cpt_dict\n",
        "\n",
        "    def joint_probability(self, assignment):\n",
        "\n",
        "        probability = 1.0\n",
        "        for variable in self.variables:\n",
        "            parents = self.cpt_dict[variable]['parents']\n",
        "            parent_values = tuple([assignment[parent] for parent in parents]) if parents else ()\n",
        "            probability *= self.cpt_dict[variable]['cpt'][parent_values][assignment[variable]]\n",
        "        return probability\n",
        "\n",
        "    def variable_elimination(self, query_variables, evidence):\n",
        "\n",
        "\n",
        "        all_possible_assignments = self.generate_all_assignments()\n",
        "\n",
        "        posterior_distribution = {}\n",
        "        total_probability = 0.0\n",
        "\n",
        "        for assignment in all_possible_assignments:\n",
        "          if all(assignment[var] == evidence[var] for var in evidence):\n",
        "            joint_prob = self.joint_probability(assignment)\n",
        "\n",
        "            query_assignment = tuple([assignment[var] for var in query_variables])\n",
        "\n",
        "            if query_assignment not in posterior_distribution:\n",
        "              posterior_distribution[query_assignment] = 0.0\n",
        "\n",
        "            posterior_distribution[query_assignment] += joint_prob\n",
        "            total_probability += joint_prob\n",
        "\n",
        "        for assignment in posterior_distribution:\n",
        "          posterior_distribution[assignment] = posterior_distribution[assignment] / total_probability\n",
        "\n",
        "        return posterior_distribution\n",
        "\n",
        "\n",
        "    def generate_all_assignments(self):\n",
        "\n",
        "      all_assignments = []\n",
        "      def generate_recursive(current_assignment, remaining_variables):\n",
        "          if not remaining_variables:\n",
        "              all_assignments.append(current_assignment)\n",
        "              return\n",
        "\n",
        "          variable = remaining_variables[0]\n",
        "          for value in [0, 1]:\n",
        "              new_assignment = current_assignment.copy()\n",
        "              new_assignment[variable] = value\n",
        "              generate_recursive(new_assignment, remaining_variables[1:])\n",
        "\n",
        "      generate_recursive({}, self.variables)\n",
        "      return all_assignments\n",
        "\n",
        "# Example Usage:\n",
        "variables = ['A', 'B', 'C']\n",
        "cpt_dict = {\n",
        "    'A': {'parents': [], 'cpt': {(): {0: 0.7, 1: 0.3}}},\n",
        "    'B': {'parents': ['A'], 'cpt': {(0,): {0: 0.9, 1: 0.1}, (1,): {0: 0.2, 1: 0.8}}},\n",
        "    'C': {'parents': ['B'], 'cpt': {(0,): {0: 0.8, 1: 0.2}, (1,): {0: 0.5, 1: 0.5}}},\n",
        "}\n",
        "\n",
        "\n",
        "# Create a Bayesian Network\n",
        "bn = BayesianNetwork(variables, cpt_dict)\n",
        "\n",
        "# Example query: P(A | B=1)\n",
        "query_variables = ['A']\n",
        "evidence = {'B': 1}\n",
        "\n",
        "posterior_distribution = bn.variable_elimination(query_variables, evidence)\n",
        "print(\"Posterior Distribution for P(A|B=1):\", posterior_distribution)\n"
      ]
    }
  ]
}